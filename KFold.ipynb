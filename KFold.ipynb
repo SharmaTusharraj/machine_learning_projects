{
 "cells": [
  {
   "cell_type": "code",
   "execution_count": 18,
   "id": "9eafd9b6-515b-4289-9f7d-3da8ceaa5494",
   "metadata": {},
   "outputs": [],
   "source": [
    "import pandas as pd\n",
    "import matplotlib.pyplot as plt\n",
    "from sklearn.linear_model import LogisticRegression\n",
    "from sklearn.svm import SVC\n",
    "from sklearn.ensemble import RandomForestClassifier\n",
    "from sklearn.datasets import load_digits\n",
    "digits=load_digits()\n",
    "import numpy as np"
   ]
  },
  {
   "cell_type": "code",
   "execution_count": 2,
   "id": "013f9582-1177-4b14-9452-bce1608b30d3",
   "metadata": {},
   "outputs": [],
   "source": [
    "from sklearn.model_selection import train_test_split\n",
    "x_train,x_test,y_train,y_test=train_test_split(digits.data,digits.target,test_size=0.2)\n"
   ]
  },
  {
   "cell_type": "code",
   "execution_count": 3,
   "id": "94666c32-1013-44e3-8536-4154b9457318",
   "metadata": {},
   "outputs": [
    {
     "name": "stderr",
     "output_type": "stream",
     "text": [
      "C:\\Users\\TUSHAR\\AppData\\Roaming\\Python\\Python311\\site-packages\\sklearn\\linear_model\\_logistic.py:460: ConvergenceWarning: lbfgs failed to converge (status=1):\n",
      "STOP: TOTAL NO. of ITERATIONS REACHED LIMIT.\n",
      "\n",
      "Increase the number of iterations (max_iter) or scale the data as shown in:\n",
      "    https://scikit-learn.org/stable/modules/preprocessing.html\n",
      "Please also refer to the documentation for alternative solver options:\n",
      "    https://scikit-learn.org/stable/modules/linear_model.html#logistic-regression\n",
      "  n_iter_i = _check_optimize_result(\n"
     ]
    },
    {
     "data": {
      "text/plain": [
       "0.9666666666666667"
      ]
     },
     "execution_count": 3,
     "metadata": {},
     "output_type": "execute_result"
    }
   ],
   "source": [
    "lr=LogisticRegression()\n",
    "lr.fit(x_train,y_train)\n",
    "lr.score(x_test,y_test)"
   ]
  },
  {
   "cell_type": "code",
   "execution_count": 4,
   "id": "063002dc-ab81-4c2e-a2af-c41fa7b8124c",
   "metadata": {},
   "outputs": [
    {
     "data": {
      "text/plain": [
       "0.9833333333333333"
      ]
     },
     "execution_count": 4,
     "metadata": {},
     "output_type": "execute_result"
    }
   ],
   "source": [
    "svc=SVC()\n",
    "svc.fit(x_train,y_train)\n",
    "svc.score(x_test,y_test)\n"
   ]
  },
  {
   "cell_type": "code",
   "execution_count": 5,
   "id": "1986c14b-6c6e-48fb-a9ff-e763ce16294c",
   "metadata": {},
   "outputs": [
    {
     "data": {
      "text/plain": [
       "0.9694444444444444"
      ]
     },
     "execution_count": 5,
     "metadata": {},
     "output_type": "execute_result"
    }
   ],
   "source": [
    "rfc=RandomForestClassifier()\n",
    "rfc.fit(x_train,y_train)\n",
    "rfc.score(x_test,y_test)"
   ]
  },
  {
   "cell_type": "code",
   "execution_count": 6,
   "id": "fbfa65f1-0775-4aba-96b7-bf1f70bc61f0",
   "metadata": {},
   "outputs": [],
   "source": [
    "def get_score(model,x_train,x_test,y_train,y_test):\n",
    "    model.fit(x_train,y_train)\n",
    "    return model.score(x_test,y_test)"
   ]
  },
  {
   "cell_type": "code",
   "execution_count": 7,
   "id": "d442ef91-45f0-4d7a-bf31-57de919493b3",
   "metadata": {},
   "outputs": [],
   "source": [
    "from sklearn.model_selection import StratifiedKFold\n",
    "folds = StratifiedKFold(n_splits=3)\n",
    "\n",
    "score_Logistic=[]\n",
    "score_svm=[]\n",
    "score_Classifier=[]\n",
    "for train_index,test_index in folds.split(digits.data,digits.target):\n",
    " x_train,x_test,y_train,y_test=digits.data[train_index],digits.data[test_index],digits.target[train_index],digits.target[test_index]\n",
    " score_Logistic.append(get_score(LogisticRegression(solver='liblinear',multi_class='ovr'),x_train,x_test,y_train,y_test))\n",
    " score_svm.append(get_score(SVC(),x_train,x_test,y_train,y_test))\n",
    " score_Classifier.append(get_score(RandomForestClassifier(),x_train,x_test,y_train,y_test))"
   ]
  },
  {
   "cell_type": "code",
   "execution_count": 8,
   "id": "e1e86155-5f9b-4bda-8d55-021c4b6b52e6",
   "metadata": {},
   "outputs": [
    {
     "data": {
      "text/plain": [
       "[0.8948247078464107, 0.9532554257095158, 0.9098497495826378]"
      ]
     },
     "execution_count": 8,
     "metadata": {},
     "output_type": "execute_result"
    }
   ],
   "source": [
    "score_Logistic"
   ]
  },
  {
   "cell_type": "code",
   "execution_count": 9,
   "id": "6b00217f-579a-409d-8e3c-cd7fd3088216",
   "metadata": {},
   "outputs": [
    {
     "data": {
      "text/plain": [
       "[0.9649415692821369, 0.9799666110183639, 0.9649415692821369]"
      ]
     },
     "execution_count": 9,
     "metadata": {},
     "output_type": "execute_result"
    }
   ],
   "source": [
    "score_svm"
   ]
  },
  {
   "cell_type": "code",
   "execution_count": 10,
   "id": "5223ccf8-8cab-4332-97da-15536bcb8761",
   "metadata": {},
   "outputs": [
    {
     "data": {
      "text/plain": [
       "[0.9332220367278798, 0.9499165275459098, 0.9232053422370617]"
      ]
     },
     "execution_count": 10,
     "metadata": {},
     "output_type": "execute_result"
    }
   ],
   "source": [
    "score_Classifier"
   ]
  },
  {
   "cell_type": "code",
   "execution_count": 11,
   "id": "11f83443-e774-4a4c-b7fe-fc203a83a117",
   "metadata": {},
   "outputs": [],
   "source": [
    "from sklearn.model_selection import cross_val_score"
   ]
  },
  {
   "cell_type": "code",
   "execution_count": 14,
   "id": "b304a4d8-6789-42de-895f-9575a69e1e50",
   "metadata": {},
   "outputs": [
    {
     "name": "stderr",
     "output_type": "stream",
     "text": [
      "C:\\Users\\TUSHAR\\AppData\\Roaming\\Python\\Python311\\site-packages\\sklearn\\linear_model\\_logistic.py:460: ConvergenceWarning: lbfgs failed to converge (status=1):\n",
      "STOP: TOTAL NO. of ITERATIONS REACHED LIMIT.\n",
      "\n",
      "Increase the number of iterations (max_iter) or scale the data as shown in:\n",
      "    https://scikit-learn.org/stable/modules/preprocessing.html\n",
      "Please also refer to the documentation for alternative solver options:\n",
      "    https://scikit-learn.org/stable/modules/linear_model.html#logistic-regression\n",
      "  n_iter_i = _check_optimize_result(\n",
      "C:\\Users\\TUSHAR\\AppData\\Roaming\\Python\\Python311\\site-packages\\sklearn\\linear_model\\_logistic.py:460: ConvergenceWarning: lbfgs failed to converge (status=1):\n",
      "STOP: TOTAL NO. of ITERATIONS REACHED LIMIT.\n",
      "\n",
      "Increase the number of iterations (max_iter) or scale the data as shown in:\n",
      "    https://scikit-learn.org/stable/modules/preprocessing.html\n",
      "Please also refer to the documentation for alternative solver options:\n",
      "    https://scikit-learn.org/stable/modules/linear_model.html#logistic-regression\n",
      "  n_iter_i = _check_optimize_result(\n",
      "C:\\Users\\TUSHAR\\AppData\\Roaming\\Python\\Python311\\site-packages\\sklearn\\linear_model\\_logistic.py:460: ConvergenceWarning: lbfgs failed to converge (status=1):\n",
      "STOP: TOTAL NO. of ITERATIONS REACHED LIMIT.\n",
      "\n",
      "Increase the number of iterations (max_iter) or scale the data as shown in:\n",
      "    https://scikit-learn.org/stable/modules/preprocessing.html\n",
      "Please also refer to the documentation for alternative solver options:\n",
      "    https://scikit-learn.org/stable/modules/linear_model.html#logistic-regression\n",
      "  n_iter_i = _check_optimize_result(\n"
     ]
    },
    {
     "data": {
      "text/plain": [
       "array([0.92153589, 0.94156928, 0.91652755])"
      ]
     },
     "execution_count": 14,
     "metadata": {},
     "output_type": "execute_result"
    }
   ],
   "source": [
    "cross_val_score(LogisticRegression(),digits.data,digits.target,cv=3)"
   ]
  },
  {
   "cell_type": "code",
   "execution_count": 16,
   "id": "43ac21d7-d8b3-4c5a-8cbd-f65e5dfd7639",
   "metadata": {},
   "outputs": [
    {
     "data": {
      "text/plain": [
       "array([0.96494157, 0.97996661, 0.96494157])"
      ]
     },
     "execution_count": 16,
     "metadata": {},
     "output_type": "execute_result"
    }
   ],
   "source": [
    "cross_val_score(SVC(),digits.data,digits.target,cv=3)"
   ]
  },
  {
   "cell_type": "code",
   "execution_count": 20,
   "id": "e866a3e8-f718-4959-bf2c-2796158632a9",
   "metadata": {},
   "outputs": [
    {
     "data": {
      "text/plain": [
       "0.9404563160823596"
      ]
     },
     "execution_count": 20,
     "metadata": {},
     "output_type": "execute_result"
    }
   ],
   "source": [
    "score1=cross_val_score(RandomForestClassifier(),digits.data,digits.target,cv=3)\n",
    "np.average(score1)"
   ]
  },
  {
   "cell_type": "code",
   "execution_count": null,
   "id": "c6ce53f5-4b3b-4ea6-8ae7-087ccb661be4",
   "metadata": {},
   "outputs": [],
   "source": []
  }
 ],
 "metadata": {
  "kernelspec": {
   "display_name": "Python 3 (ipykernel)",
   "language": "python",
   "name": "python3"
  },
  "language_info": {
   "codemirror_mode": {
    "name": "ipython",
    "version": 3
   },
   "file_extension": ".py",
   "mimetype": "text/x-python",
   "name": "python",
   "nbconvert_exporter": "python",
   "pygments_lexer": "ipython3",
   "version": "3.11.4"
  }
 },
 "nbformat": 4,
 "nbformat_minor": 5
}
